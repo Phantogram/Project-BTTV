{
 "cells": [
  {
   "cell_type": "code",
   "execution_count": null,
   "metadata": {},
   "outputs": [],
   "source": [
    "# Create code to answer each of the following questions.\n",
    "# Hint: You will need multiple target URLs and multiple API requests.\n",
    "\n",
    "# Dependencies\n",
    "import requests\n",
    "import json\n",
    "import os\n",
    "import csv\n",
    "import pandas as pd\n",
    "import matplotlib.pyplot as plt\n",
    "import scipy.stats as sts\n",
    "import numpy as np\n",
    "from scipy import stats\n",
    "import gmaps\n",
    "\n",
    "# Google API Key\n",
    "from config import gkey"
   ]
  },
  {
   "cell_type": "code",
   "execution_count": null,
   "metadata": {},
   "outputs": [],
   "source": [
    "# Specify path to read file\n",
    "path = os.path.join(\"Resources\", \"BYAREA_COUNTY.txt\")\n",
    "\n",
    "# Read dataset\n",
    "dataset = pd.read_csv(path,delimiter=\"|\")\n",
    "dataset.head()\n",
    "\n",
    "# Filter out ~ to exclude non int data\n",
    "dataset = dataset[dataset.AGE_ADJUSTED_RATE != '~']\n",
    "\n",
    "# Filter to select all races, sex, and sites\n",
    "dataset_all_cancer = dataset.loc[(dataset['SITE'] == 'All Cancer Sites Combined') & (dataset['RACE'] == 'All Races') & (dataset['SEX'] == 'Male and Female')]\n",
    "dataset_all_cancer.head()\n",
    "\n",
    "# Filter to select deaths\n",
    "dataset_all_cancer_deaths = dataset_all_cancer.loc[dataset_all_cancer['EVENT_TYPE'] == 'Mortality']\n",
    "\n",
    "# Seperate out County Name from Area\n",
    "dataset_all_cancer_deaths[\"County\"] = dataset_all_cancer_deaths.AREA.str.split(':').str[1]\n",
    "dataset_all_cancer_deaths[\"County Name\"] = dataset_all_cancer_deaths.County.str.split('(').str[0]"
   ]
  },
  {
   "cell_type": "code",
   "execution_count": null,
   "metadata": {},
   "outputs": [],
   "source": [
    "# Filter to select one state\n",
    "dataset_all_cancer_deaths_CA = dataset_all_cancer_deaths.loc[(dataset_all_cancer['STATE'] == 'CA') | (dataset_all_cancer['STATE'] == 'UT') ]\n",
    "\n",
    "# dataset_all_cancer_deaths_CA[\"AGE_ADJUSTED_RATE\"]= dataset_all_cancer_deaths_CA[\"AGE_ADJUSTED_RATE\"].replace(\"~\", \"NaN\")\n",
    "\n",
    "df = dataset_all_cancer_deaths_CA\n",
    "\n",
    "# df['AGE_ADJUSTED_RATE'].drop(df[df['AGE_ADJUSTED_RATE'] == \"~\"].index)\n",
    "df[\"lat\"] = \"\"\n",
    "df[\"lng\"] = \"\"\n",
    "df"
   ]
  },
  {
   "cell_type": "code",
   "execution_count": null,
   "metadata": {},
   "outputs": [],
   "source": [
    "# create a params dict that will be updated with new city each iteration\n",
    "params = {\"key\": gkey}\n",
    "\n",
    "# Loop through the cities_pd and run a lat/long search for each city\n",
    "for index, row in df.iterrows():\n",
    "    base_url = \"https://maps.googleapis.com/maps/api/geocode/json\"\n",
    "\n",
    "    county = row['County Name']\n",
    "    state = row['STATE']\n",
    "\n",
    "    # update address key value\n",
    "    params['address'] = f\"{county},{state}\"\n",
    "\n",
    "    # make request\n",
    "    response = requests.get(base_url, params=params).json()\n",
    "    \n",
    "    try:\n",
    "    \n",
    "        df.loc[index, 'lat'] = response[\"results\"][0][\"geometry\"][\"location\"][\"lat\"]\n",
    "        df.loc[index, 'lng'] = response[\"results\"][0][\"geometry\"][\"location\"][\"lng\"]\n",
    "        \n",
    "    except (KeyError, IndexError):\n",
    "        df.loc[index, 'lat'] = 0\n",
    "        df.loc[index, 'lng'] = 0\n",
    "        print(f\"Missing field/result... skipping {index}.\")"
   ]
  },
  {
   "cell_type": "code",
   "execution_count": null,
   "metadata": {},
   "outputs": [],
   "source": [
    "df[\"Ratings\"] = df[\"AGE_ADJUSTED_RATE\"].astype(float) / 100\n",
    "df"
   ]
  },
  {
   "cell_type": "code",
   "execution_count": null,
   "metadata": {},
   "outputs": [],
   "source": [
    "# Store latitude and longitude in locations\n",
    "locations = df[[\"lat\", \"lng\"]]\n",
    "\n",
    "# Fill NaN values and convert to float\n",
    "rating = df[\"Ratings\"].astype(float)\n",
    "\n",
    "# Plot Heatmap\n",
    "fig = gmaps.figure()\n",
    "\n",
    "# Create heat layer\n",
    "heat_layer = gmaps.heatmap_layer(locations, weights=rating, \n",
    "                                 dissipating=False, max_intensity=10,\n",
    "                                 point_radius=1)\n",
    "\n",
    "\n",
    "# Add layer\n",
    "fig.add_layer(heat_layer)\n",
    "\n",
    "# Display figure\n",
    "fig"
   ]
  }
 ],
 "metadata": {
  "kernelspec": {
   "display_name": "Python 3",
   "language": "python",
   "name": "python3"
  },
  "language_info": {
   "codemirror_mode": {
    "name": "ipython",
    "version": 3
   },
   "file_extension": ".py",
   "mimetype": "text/x-python",
   "name": "python",
   "nbconvert_exporter": "python",
   "pygments_lexer": "ipython3",
   "version": "3.7.6"
  }
 },
 "nbformat": 4,
 "nbformat_minor": 4
}
